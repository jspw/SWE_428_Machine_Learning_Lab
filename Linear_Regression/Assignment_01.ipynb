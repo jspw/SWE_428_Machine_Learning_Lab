{
 "cells": [
  {
   "cell_type": "markdown",
   "metadata": {
    "id": "IeX6DY4Es-eq"
   },
   "source": [
    "## Import Libs"
   ]
  },
  {
   "cell_type": "code",
   "execution_count": 1,
   "metadata": {
    "id": "9HaF2vgdLmmO"
   },
   "outputs": [],
   "source": [
    "import pandas as pd\n",
    "import numpy as np\n",
    "import matplotlib.pyplot as plt"
   ]
  },
  {
   "cell_type": "code",
   "execution_count": 2,
   "metadata": {
    "colab": {
     "base_uri": "https://localhost:8080/",
     "height": 206
    },
    "id": "DxdGHuRGMzox",
    "outputId": "9a41c337-30ab-4e55-e153-55d432c41060"
   },
   "outputs": [
    {
     "data": {
      "text/html": [
       "<div>\n",
       "<style scoped>\n",
       "    .dataframe tbody tr th:only-of-type {\n",
       "        vertical-align: middle;\n",
       "    }\n",
       "\n",
       "    .dataframe tbody tr th {\n",
       "        vertical-align: top;\n",
       "    }\n",
       "\n",
       "    .dataframe thead th {\n",
       "        text-align: right;\n",
       "    }\n",
       "</style>\n",
       "<table border=\"1\" class=\"dataframe\">\n",
       "  <thead>\n",
       "    <tr style=\"text-align: right;\">\n",
       "      <th></th>\n",
       "      <th>Posted On</th>\n",
       "      <th>BHK</th>\n",
       "      <th>Rent</th>\n",
       "      <th>Size</th>\n",
       "      <th>Floor</th>\n",
       "      <th>Area Type</th>\n",
       "      <th>Area Locality</th>\n",
       "      <th>City</th>\n",
       "      <th>Furnishing Status</th>\n",
       "      <th>Tenant Preferred</th>\n",
       "      <th>Bathroom</th>\n",
       "      <th>Point of Contact</th>\n",
       "    </tr>\n",
       "  </thead>\n",
       "  <tbody>\n",
       "    <tr>\n",
       "      <th>0</th>\n",
       "      <td>2022-05-18</td>\n",
       "      <td>2</td>\n",
       "      <td>10000</td>\n",
       "      <td>1100</td>\n",
       "      <td>Ground out of 2</td>\n",
       "      <td>Super Area</td>\n",
       "      <td>Bandel</td>\n",
       "      <td>Kolkata</td>\n",
       "      <td>Unfurnished</td>\n",
       "      <td>Bachelors/Family</td>\n",
       "      <td>2</td>\n",
       "      <td>Contact Owner</td>\n",
       "    </tr>\n",
       "    <tr>\n",
       "      <th>1</th>\n",
       "      <td>2022-05-13</td>\n",
       "      <td>2</td>\n",
       "      <td>20000</td>\n",
       "      <td>800</td>\n",
       "      <td>1 out of 3</td>\n",
       "      <td>Super Area</td>\n",
       "      <td>Phool Bagan, Kankurgachi</td>\n",
       "      <td>Kolkata</td>\n",
       "      <td>Semi-Furnished</td>\n",
       "      <td>Bachelors/Family</td>\n",
       "      <td>1</td>\n",
       "      <td>Contact Owner</td>\n",
       "    </tr>\n",
       "    <tr>\n",
       "      <th>2</th>\n",
       "      <td>2022-05-16</td>\n",
       "      <td>2</td>\n",
       "      <td>17000</td>\n",
       "      <td>1000</td>\n",
       "      <td>1 out of 3</td>\n",
       "      <td>Super Area</td>\n",
       "      <td>Salt Lake City Sector 2</td>\n",
       "      <td>Kolkata</td>\n",
       "      <td>Semi-Furnished</td>\n",
       "      <td>Bachelors/Family</td>\n",
       "      <td>1</td>\n",
       "      <td>Contact Owner</td>\n",
       "    </tr>\n",
       "    <tr>\n",
       "      <th>3</th>\n",
       "      <td>2022-07-04</td>\n",
       "      <td>2</td>\n",
       "      <td>10000</td>\n",
       "      <td>800</td>\n",
       "      <td>1 out of 2</td>\n",
       "      <td>Super Area</td>\n",
       "      <td>Dumdum Park</td>\n",
       "      <td>Kolkata</td>\n",
       "      <td>Unfurnished</td>\n",
       "      <td>Bachelors/Family</td>\n",
       "      <td>1</td>\n",
       "      <td>Contact Owner</td>\n",
       "    </tr>\n",
       "    <tr>\n",
       "      <th>4</th>\n",
       "      <td>2022-05-09</td>\n",
       "      <td>2</td>\n",
       "      <td>7500</td>\n",
       "      <td>850</td>\n",
       "      <td>1 out of 2</td>\n",
       "      <td>Carpet Area</td>\n",
       "      <td>South Dum Dum</td>\n",
       "      <td>Kolkata</td>\n",
       "      <td>Unfurnished</td>\n",
       "      <td>Bachelors</td>\n",
       "      <td>1</td>\n",
       "      <td>Contact Owner</td>\n",
       "    </tr>\n",
       "  </tbody>\n",
       "</table>\n",
       "</div>"
      ],
      "text/plain": [
       "    Posted On  BHK   Rent  Size            Floor    Area Type  \\\n",
       "0  2022-05-18    2  10000  1100  Ground out of 2   Super Area   \n",
       "1  2022-05-13    2  20000   800       1 out of 3   Super Area   \n",
       "2  2022-05-16    2  17000  1000       1 out of 3   Super Area   \n",
       "3  2022-07-04    2  10000   800       1 out of 2   Super Area   \n",
       "4  2022-05-09    2   7500   850       1 out of 2  Carpet Area   \n",
       "\n",
       "              Area Locality     City Furnishing Status  Tenant Preferred  \\\n",
       "0                    Bandel  Kolkata       Unfurnished  Bachelors/Family   \n",
       "1  Phool Bagan, Kankurgachi  Kolkata    Semi-Furnished  Bachelors/Family   \n",
       "2   Salt Lake City Sector 2  Kolkata    Semi-Furnished  Bachelors/Family   \n",
       "3               Dumdum Park  Kolkata       Unfurnished  Bachelors/Family   \n",
       "4             South Dum Dum  Kolkata       Unfurnished         Bachelors   \n",
       "\n",
       "   Bathroom Point of Contact  \n",
       "0         2    Contact Owner  \n",
       "1         1    Contact Owner  \n",
       "2         1    Contact Owner  \n",
       "3         1    Contact Owner  \n",
       "4         1    Contact Owner  "
      ]
     },
     "execution_count": 2,
     "metadata": {},
     "output_type": "execute_result"
    }
   ],
   "source": [
    "data = pd.read_csv(\"4K_House_Rent_Dataset.csv\")\n",
    "data.head()"
   ]
  },
  {
   "cell_type": "markdown",
   "metadata": {
    "id": "mosY170suGIf"
   },
   "source": [
    "## Data Pre Processing"
   ]
  },
  {
   "cell_type": "code",
   "execution_count": null,
   "metadata": {
    "colab": {
     "base_uri": "https://localhost:8080/"
    },
    "id": "IvE6HBdvM-G3",
    "outputId": "5a02d72b-6f40-4d37-80a6-036a1af96e45"
   },
   "outputs": [
    {
     "data": {
      "text/plain": [
       "(array([10000, 20000, 17000, ..., 35000, 45000, 15000]),\n",
       " array([1100,  800, 1000, ..., 1750, 1500, 1000]),\n",
       " array([2, 1, 1, ..., 3, 2, 2]),\n",
       " array([2, 2, 2, ..., 3, 3, 2]),\n",
       " array([0, 1, 1, ..., 1, 1, 0]))"
      ]
     },
     "execution_count": 80,
     "metadata": {},
     "output_type": "execute_result"
    }
   ],
   "source": [
    "y = data['Rent'].values\n",
    "x1,x2,x3 = data['Size'].values,data['Bathroom'].values,data['BHK'].values\n",
    "x4=data['Furnishing Status'].replace({\"Unfurnished\": 0, \"Semi-Furnished\": 1, \"Furnished\": 2}).values\n",
    "y,x1,x2,x3,x4"
   ]
  },
  {
   "cell_type": "markdown",
   "metadata": {
    "id": "Rg1lGrpSuN-6"
   },
   "source": [
    "### Clean Data"
   ]
  },
  {
   "cell_type": "code",
   "execution_count": null,
   "metadata": {
    "colab": {
     "base_uri": "https://localhost:8080/"
    },
    "id": "wkMBVeExSOiu",
    "outputId": "874c27a6-be57-48af-a5a7-be8c4d49c534"
   },
   "outputs": [
    {
     "data": {
      "text/plain": [
       "Posted On            0\n",
       "BHK                  0\n",
       "Rent                 0\n",
       "Size                 0\n",
       "Floor                0\n",
       "Area Type            0\n",
       "Area Locality        0\n",
       "City                 0\n",
       "Furnishing Status    0\n",
       "Tenant Preferred     0\n",
       "Bathroom             0\n",
       "Point of Contact     0\n",
       "dtype: int64"
      ]
     },
     "execution_count": 81,
     "metadata": {},
     "output_type": "execute_result"
    }
   ],
   "source": [
    "data.isnull().sum()"
   ]
  },
  {
   "cell_type": "code",
   "execution_count": null,
   "metadata": {
    "id": "_IoYhrTMTlSv"
   },
   "outputs": [],
   "source": [
    "def replace_nan_with_mean(ar):\n",
    "  return [ar.mean() if item is None else item for item in ar]"
   ]
  },
  {
   "cell_type": "code",
   "execution_count": null,
   "metadata": {
    "id": "jk3pCxpgUfJa"
   },
   "outputs": [],
   "source": [
    "x1 = replace_nan_with_mean(x1)\n",
    "x2 = replace_nan_with_mean(x2)\n",
    "x3 = replace_nan_with_mean(x3)\n",
    "# x4 = replace_nan_with_mean(x4)"
   ]
  },
  {
   "cell_type": "markdown",
   "metadata": {
    "id": "r2QiKUPkuiPR"
   },
   "source": [
    "# Normal Equation"
   ]
  },
  {
   "cell_type": "code",
   "execution_count": null,
   "metadata": {
    "id": "qBdfP8pRYC5z"
   },
   "outputs": [],
   "source": [
    "Y = np.array(y)\n",
    "# X = np.column_stack([x1,x2,x3,x4])\n",
    "X = np.array([[a0,a1,a2,a3,a4] for a0,a1,a2,a3,a4 in zip(np.ones(len(y)),x1,x2,x3,x4)])"
   ]
  },
  {
   "cell_type": "code",
   "execution_count": null,
   "metadata": {
    "colab": {
     "base_uri": "https://localhost:8080/"
    },
    "id": "Tsoy3oVPbifn",
    "outputId": "9edbd566-3ca4-4c2c-a2b7-74eb3a13feb7"
   },
   "outputs": [
    {
     "data": {
      "text/plain": [
       "array([-4.23693863e+04,  2.35095594e+01,  2.64676202e+04, -1.29289804e+03,\n",
       "        6.93957077e+03])"
      ]
     },
     "execution_count": 85,
     "metadata": {},
     "output_type": "execute_result"
    }
   ],
   "source": [
    "XT = np.transpose(X)\n",
    "XTX = np.matmul(XT,X)\n",
    "XTY = np.matmul(XT,Y)\n",
    "INV_XTX = np.linalg.inv(XTX)\n",
    "thetas = np.matmul(INV_XTX,XTY)\n",
    "thetas"
   ]
  },
  {
   "cell_type": "code",
   "execution_count": null,
   "metadata": {
    "colab": {
     "base_uri": "https://localhost:8080/"
    },
    "id": "yiIK7VtWjWq6",
    "outputId": "74cba28c-6b91-4971-9473-bc0afdccc96c"
   },
   "outputs": [
    {
     "data": {
      "text/plain": [
       "2394004443.12778"
      ]
     },
     "execution_count": 86,
     "metadata": {},
     "output_type": "execute_result"
    }
   ],
   "source": [
    "sum = 0\n",
    "for i in range(len(x1)):\n",
    "    tsum = thetas[0] +  thetas[1]*x1[i] + thetas[2]*x2[i] + thetas[3]*x3[i] + thetas[4]*x4[i] - y[i]\n",
    "    tsum = tsum * tsum\n",
    "    sum = sum + tsum\n",
    "    \n",
    "cost = sum/(2*len(x1))\n",
    "cost"
   ]
  },
  {
   "cell_type": "markdown",
   "metadata": {
    "id": "bbk72sdxu_e8"
   },
   "source": [
    "# Normal Equation Plots"
   ]
  },
  {
   "cell_type": "code",
   "execution_count": null,
   "metadata": {
    "id": "JocjoTZqksZn"
   },
   "outputs": [],
   "source": [
    "def plot(x, y, label_x, label_y, theta, theta0):\n",
    "  lin_x = np.linspace(np.min(x), np.max(x), 10)\n",
    "  reg_line = theta * lin_x + theta0\n",
    "  plt.plot(lin_x, reg_line, c='r', label='Regression Line')\n",
    "  plt.scatter(x, y, label = 'Scatter Plot')\n",
    "  plt.xlabel(label_x)\n",
    "  plt.ylabel(label_y)\n",
    "  plt.legend()\n",
    "  plt.show()"
   ]
  },
  {
   "cell_type": "code",
   "execution_count": null,
   "metadata": {
    "colab": {
     "base_uri": "https://localhost:8080/",
     "height": 290
    },
    "id": "AVgR-lcWoT1w",
    "outputId": "27733ad1-3ac8-428c-b022-ad5d7343b3f9"
   },
   "outputs": [
    {
     "data": {
      "image/png": "[encoded data removed]",
      "text/plain": [
       "<Figure size 432x288 with 1 Axes>"
      ]
     },
     "metadata": {
      "needs_background": "light"
     },
     "output_type": "display_data"
    }
   ],
   "source": [
    "plot(x1, y, \"Size\", \"Rent\", thetas[1], thetas[0])"
   ]
  },
  {
   "cell_type": "code",
   "execution_count": null,
   "metadata": {
    "colab": {
     "base_uri": "https://localhost:8080/",
     "height": 290
    },
    "id": "ryTZXJaaoYOp",
    "outputId": "26c9165d-5980-4afa-ac36-25c1fbaae775"
   },
   "outputs": [
    {
     "data": {
      "image/png": "[encoded data removed]",
      "text/plain": [
       "<Figure size 432x288 with 1 Axes>"
      ]
     },
     "metadata": {
      "needs_background": "light"
     },
     "output_type": "display_data"
    }
   ],
   "source": [
    "plot(x2, y, \"Bathroom\", \"Rent\", thetas[2], thetas[0])"
   ]
  },
  {
   "cell_type": "code",
   "execution_count": null,
   "metadata": {
    "colab": {
     "base_uri": "https://localhost:8080/",
     "height": 290
    },
    "id": "f5cEez7Tom_1",
    "outputId": "f24e86a5-2048-4808-f7ac-72139e4e615c"
   },
   "outputs": [
    {
     "data": {
      "image/png": "[encoded data removed]",
      "text/plain": [
       "<Figure size 432x288 with 1 Axes>"
      ]
     },
     "metadata": {
      "needs_background": "light"
     },
     "output_type": "display_data"
    }
   ],
   "source": [
    "plot(x3, y, \"BHK\", \"Rent\", thetas[3], thetas[0])"
   ]
  },
  {
   "cell_type": "code",
   "execution_count": null,
   "metadata": {
    "colab": {
     "base_uri": "https://localhost:8080/",
     "height": 290
    },
    "id": "HfkcFkH6pWK1",
    "outputId": "d0bb5fcb-7ca4-4c04-c21d-f137f4b5bd7d"
   },
   "outputs": [
    {
     "data": {
      "image/png": "[encoded data removed]",
      "text/plain": [
       "<Figure size 432x288 with 1 Axes>"
      ]
     },
     "metadata": {
      "needs_background": "light"
     },
     "output_type": "display_data"
    }
   ],
   "source": [
    "plot(x4, y, \"Furnish Status\", \"Rent\", thetas[4], thetas[0])"
   ]
  },
  {
   "cell_type": "markdown",
   "metadata": {
    "id": "XHx6oWQQq3su"
   },
   "source": [
    "# Gradient Descent\n"
   ]
  },
  {
   "cell_type": "code",
   "execution_count": null,
   "metadata": {
    "id": "EKBlJQ-eq0Ui"
   },
   "outputs": [],
   "source": [
    "epoch = 1000\n",
    "learning_rate = 0.0000001\n",
    "m=len(x1)\n",
    "t0 = 0\n",
    "t1 = 0\n",
    "t2 = 0\n",
    "t3 = 0\n",
    "t4 = 0"
   ]
  },
  {
   "cell_type": "code",
   "execution_count": null,
   "metadata": {
    "colab": {
     "base_uri": "https://localhost:8080/"
    },
    "id": "H08UsD8MrIjS",
    "outputId": "143a9ab7-a532-452e-c0d2-011960aa7513"
   },
   "outputs": [
    {
     "data": {
      "text/plain": [
       "(-0.3998476467252764,\n",
       " 40.60456150073871,\n",
       " 0.5873033664176552,\n",
       " 0.0465224868228666,\n",
       " 0.1753278616268883)"
      ]
     },
     "execution_count": 93,
     "metadata": {},
     "output_type": "execute_result"
    }
   ],
   "source": [
    "for i in range(epoch):\n",
    "    cx0 = 0\n",
    "    cx1 = 0\n",
    "    cx2 = 0\n",
    "    cx3 = 0\n",
    "    cx4 = 0\n",
    "    \n",
    "    for j in range(m):\n",
    "        cx0 += (t0 + t1*x1[j] + t2*x2[j] + t3*x3[j] + t4*x4[j] - y[j])\n",
    "        cx1 += (t0 + t1*x1[j] + t2*x2[j] + t3*x3[j] + t4*x4[j] - y[j]) * x1[j]\n",
    "        cx2 += (t0 + t1*x1[j] + t2*x2[j] + t3*x3[j] + t4*x4[j] - y[j]) * x2[j]\n",
    "        cx3 += (t0 + t1*x1[j] + t2*x2[j] + t3*x3[j] + t4*x4[j] - y[j]) * x3[j]\n",
    "        cx4 += (t0 + t1*x1[j] + t2*x2[j] + t3*x3[j] + t4*x4[j] - y[j]) * x4[j]\n",
    "        \n",
    "    t0 = t0 - learning_rate * (cx0) / m\n",
    "    t1 = t1 - learning_rate * (cx1) / m\n",
    "    t2 = t2 - learning_rate * (cx2) / m\n",
    "    t3 = t3 - learning_rate * (cx3) / m\n",
    "    t4 = t4 - learning_rate * (cx4) / m\n",
    "\n",
    "\n",
    "t0,t1,t2,t3,t4"
   ]
  },
  {
   "cell_type": "code",
   "execution_count": null,
   "metadata": {
    "colab": {
     "base_uri": "https://localhost:8080/"
    },
    "id": "bwLC-hQLrI7h",
    "outputId": "0bb9d50c-edd4-4544-8fc0-3bee1e6bd00f"
   },
   "outputs": [
    {
     "data": {
      "text/plain": [
       "2558741756.3962893"
      ]
     },
     "execution_count": 95,
     "metadata": {},
     "output_type": "execute_result"
    }
   ],
   "source": [
    "sum = 0\n",
    "for j in range(m):\n",
    "    tsum = t0 +  t1*x1[j] + t2*x2[j] + t3*x3[j] + t4*x4[j] - y[j]\n",
    "    tsum = tsum * tsum\n",
    "    sum = sum + tsum\n",
    "    \n",
    "cost = sum/(2*m)\n",
    "cost"
   ]
  },
  {
   "cell_type": "markdown",
   "metadata": {
    "id": "huDNM5M1vJzC"
   },
   "source": [
    "# Gradient Descent Plots"
   ]
  },
  {
   "cell_type": "code",
   "execution_count": null,
   "metadata": {
    "colab": {
     "base_uri": "https://localhost:8080/",
     "height": 290
    },
    "id": "wDDHVa6brrdJ",
    "outputId": "370eda2d-a5c0-4885-c728-f4fac5c8dfc9"
   },
   "outputs": [
    {
     "data": {
      "image/png": "[encoded data removed]",
      "text/plain": [
       "<Figure size 432x288 with 1 Axes>"
      ]
     },
     "metadata": {
      "needs_background": "light"
     },
     "output_type": "display_data"
    }
   ],
   "source": [
    "plot(x1, y, \"Size\", \"Rent\", t1, t0)"
   ]
  },
  {
   "cell_type": "code",
   "execution_count": null,
   "metadata": {
    "colab": {
     "base_uri": "https://localhost:8080/",
     "height": 290
    },
    "id": "kRDrnfUosIC4",
    "outputId": "09464eda-9631-44ad-84f0-99e79ccf16b3"
   },
   "outputs": [
    {
     "data": {
      "image/png": "[encoded data removed]",
      "text/plain": [
       "<Figure size 432x288 with 1 Axes>"
      ]
     },
     "metadata": {
      "needs_background": "light"
     },
     "output_type": "display_data"
    }
   ],
   "source": [
    "plot(x2, y, \"Bathroom\", \"Rent\", t2, t0)"
   ]
  },
  {
   "cell_type": "code",
   "execution_count": null,
   "metadata": {
    "colab": {
     "base_uri": "https://localhost:8080/",
     "height": 290
    },
    "id": "4Ze9gJgEsS6e",
    "outputId": "2d6671a8-69ed-4eb7-e1a8-a57285d1a9f4"
   },
   "outputs": [
    {
     "data": {
      "image/png": "[encoded data removed]",
      "text/plain": [
       "<Figure size 432x288 with 1 Axes>"
      ]
     },
     "metadata": {
      "needs_background": "light"
     },
     "output_type": "display_data"
    }
   ],
   "source": [
    "plot(x3, y, \"BHK\", \"Rent\", t3, t0)"
   ]
  },
  {
   "cell_type": "code",
   "execution_count": null,
   "metadata": {
    "colab": {
     "base_uri": "https://localhost:8080/",
     "height": 290
    },
    "id": "cncHymJ5sW82",
    "outputId": "dfa1d443-1639-4627-8382-e9758c97737c"
   },
   "outputs": [
    {
     "data": {
      "image/png": "[encoded data removed]",
      "text/plain": [
       "<Figure size 432x288 with 1 Axes>"
      ]
     },
     "metadata": {
      "needs_background": "light"
     },
     "output_type": "display_data"
    }
   ],
   "source": [
    "plot(x4, y, \"Furnish Status\", \"Rent\", t4, t0)"
   ]
  },
  {
   "cell_type": "code",
   "execution_count": null,
   "metadata": {
    "id": "rJiXHxolsf4r"
   },
   "outputs": [],
   "source": []
  }
 ],
 "metadata": {
  "colab": {
   "provenance": []
  },
  "kernelspec": {
   "display_name": "Python 3",
   "language": "python",
   "name": "python3"
  },
  "language_info": {
   "name": "python",
   "version": "3.9.6 (default, Oct 18 2022, 12:41:40) \n[Clang 14.0.0 (clang-1400.0.29.202)]"
  },
  "vscode": {
   "interpreter": {
    "hash": "31f2aee4e71d21fbe5cf8b01ff0e069b9275f58929596ceb00d14d90e3e16cd6"
   }
  }
 },
 "nbformat": 4,
 "nbformat_minor": 0
}
