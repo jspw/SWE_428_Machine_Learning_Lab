{
  "cells": [
    {
      "cell_type": "code",
      "execution_count": 1,
      "metadata": {
        "colab": {
          "base_uri": "https://localhost:8080/"
        },
        "id": "_Q12o8mhsa4V",
        "outputId": "0b9f5f14-ded0-436e-a5c3-fce7d050f563"
      },
      "outputs": [
        {
          "name": "stdout",
          "output_type": "stream",
          "text": [
            "Drive already mounted at /content/drive; to attempt to forcibly remount, call drive.mount(\"/content/drive\", force_remount=True).\n"
          ]
        }
      ],
      "source": [
        "from numpy import loadtxt\n",
        "from sklearn.model_selection import train_test_split\n",
        "import keras\n",
        "from keras.models import Sequential\n",
        "from keras.layers import Dense\n",
        "from keras.layers import LeakyReLU,PReLU,ELU\n",
        "from keras.layers import Dropout\n",
        "import pandas as pd\n",
        "import matplotlib.pyplot as plt\n",
        "import csv\n",
        "import numpy as np\n",
        "import seaborn as sns\n",
        "from google.colab import drive\n",
        "drive.mount('/content/drive')"
      ]
    },
    {
      "cell_type": "code",
      "execution_count": 2,
      "metadata": {
        "colab": {
          "base_uri": "https://localhost:8080/"
        },
        "id": "4DaGBYuEx4mI",
        "outputId": "26e1f8ec-6ed7-4cf5-f731-08a724428390"
      },
      "outputs": [
        {
          "data": {
            "text/plain": [
              "(768, 9)"
            ]
          },
          "execution_count": 2,
          "metadata": {},
          "output_type": "execute_result"
        }
      ],
      "source": [
        "data_path = '/content/drive/MyDrive/SWE_428_data/nn_data.txt'\n",
        "dataset = pd.read_csv(data_path, header=None)\n",
        "dataset.shape"
      ]
    },
    {
      "cell_type": "code",
      "execution_count": 3,
      "metadata": {
        "id": "18RiwmWhzIAD"
      },
      "outputs": [],
      "source": [
        "unscaled_x = dataset.iloc[:,0:8]\n",
        "unscaled_y = dataset.iloc[:,8]"
      ]
    },
    {
      "cell_type": "code",
      "execution_count": 4,
      "metadata": {
        "id": "raQvbfK-3rJk"
      },
      "outputs": [],
      "source": [
        "# define the keras model\n",
        "model = Sequential()\n",
        "model.add(Dense(8, input_shape=(8,), activation='relu'))\n",
        "model.add(Dense(6, activation='relu'))\n",
        "model.add(Dense(1, activation='sigmoid'))"
      ]
    },
    {
      "cell_type": "code",
      "execution_count": 5,
      "metadata": {
        "id": "eFQ0uKAe38WG"
      },
      "outputs": [],
      "source": [
        "model.compile(loss='binary_crossentropy', optimizer='adam', metrics=['accuracy'])"
      ]
    },
    {
      "cell_type": "code",
      "execution_count": null,
      "metadata": {
        "id": "F1Sbe8O64APK"
      },
      "outputs": [],
      "source": [
        "# fit the keras model on the dataset\n",
        "model.fit(unscaled_x, unscaled_y, epochs=100, batch_size=10)"
      ]
    },
    {
      "cell_type": "code",
      "execution_count": 7,
      "metadata": {
        "colab": {
          "base_uri": "https://localhost:8080/"
        },
        "id": "YKNXDgS64DAh",
        "outputId": "526a30e8-378a-4223-9a0c-07b5d3bbb89a"
      },
      "outputs": [
        {
          "name": "stdout",
          "output_type": "stream",
          "text": [
            "24/24 [==============================] - 0s 1ms/step - loss: 0.5616 - accuracy: 0.6901\n",
            "Accuracy: 69.01\n"
          ]
        }
      ],
      "source": [
        "# evaluate the keras model\n",
        "_, accuracy = model.evaluate(unscaled_x, unscaled_y)\n",
        "print('Accuracy: %.2f' % (accuracy*100))"
      ]
    },
    {
      "cell_type": "code",
      "execution_count": 8,
      "metadata": {
        "id": "z3dZnHLi4IU6"
      },
      "outputs": [],
      "source": [
        "from sklearn import preprocessing\n",
        "min_max_scaling = preprocessing.MinMaxScaler().fit(dataset)\n",
        "scaled_dataset = min_max_scaling.transform(dataset)\n"
      ]
    },
    {
      "cell_type": "code",
      "execution_count": 9,
      "metadata": {
        "id": "bsdmJvIaHCKM"
      },
      "outputs": [],
      "source": [
        "scaled_x = scaled_dataset[:,0:8]\n",
        "scaled_y = scaled_dataset[:,8]"
      ]
    },
    {
      "cell_type": "code",
      "execution_count": 10,
      "metadata": {
        "id": "tz7Qbq7dIGAH"
      },
      "outputs": [],
      "source": [
        "from sklearn.model_selection import StratifiedKFold as kfold\n",
        "from sklearn.metrics import confusion_matrix , classification_report, precision_score, accuracy_score"
      ]
    },
    {
      "cell_type": "code",
      "execution_count": 11,
      "metadata": {
        "id": "FJBrpAKNHH1z"
      },
      "outputs": [],
      "source": [
        "kfold_splits = 10\n",
        "folds = kfold(n_splits=kfold_splits)"
      ]
    },
    {
      "cell_type": "code",
      "execution_count": 12,
      "metadata": {
        "id": "QdfqcHTgHOVN"
      },
      "outputs": [],
      "source": [
        "precision_scores = []\n",
        "accuracy_scores = []\n",
        "     "
      ]
    },
    {
      "cell_type": "markdown",
      "metadata": {
        "id": "KawVLtgnJDQr"
      },
      "source": [
        "## With K Fold validation"
      ]
    },
    {
      "cell_type": "code",
      "execution_count": 13,
      "metadata": {
        "id": "VuU9GzZgIQs6"
      },
      "outputs": [],
      "source": [
        "def ann_model_with_k_fold(train_input,train_output,test_input,test_output,epochs,batch_size):\n",
        "  ann_model = Sequential()\n",
        "  ann_model.add(Dense(8, input_shape=(8,), activation='relu'))\n",
        "  ann_model.add(Dense(6, activation='relu'))\n",
        "  ann_model.add(Dense(1, activation='sigmoid'))\n",
        "  ann_model.compile(loss='binary_crossentropy', optimizer='adam', metrics=['accuracy'])\n",
        "  ann_model.fit(train_input, train_output, epochs=epochs, batch_size=batch_size)\n",
        "  y_pred = (ann_model.predict(test_input) > 0.5).astype(int)\n",
        "  precision_scores.append(precision_score(test_output, y_pred))\n",
        "  accuracy_scores.append(accuracy_score(test_output, y_pred))"
      ]
    },
    {
      "cell_type": "markdown",
      "metadata": {
        "id": "FRtlSFR8JNrN"
      },
      "source": [
        "## Without K-Fold Validation"
      ]
    },
    {
      "cell_type": "code",
      "execution_count": 14,
      "metadata": {
        "id": "nY42iy3WI94I"
      },
      "outputs": [],
      "source": [
        "def ann_model_without_k_fold(X,y,epochs,batch_size) :\n",
        "    from sklearn.model_selection import train_test_split\n",
        "    X_train, X_test, y_train, y_test = train_test_split(X,y,test_size=0.3)\n",
        "    ann_model = Sequential();\n",
        "    ann_model.add(Dense(8, input_shape=(8,), activation='relu'))\n",
        "    ann_model.add(Dense(6, activation='relu'))\n",
        "    ann_model.add(Dense(1, activation='sigmoid'))\n",
        "    ann_model.compile( optimizer = 'adam' , loss = 'binary_crossentropy', metrics = ['accuracy'])\n",
        "    ann_model.fit(X_train,y_train,epochs=epochs,batch_size = batch_size)\n",
        "    y_pre = ann_model.predict(X_test);\n",
        "    y_pred = [] ;\n",
        "    for element in y_pre:\n",
        "        if element > 0.5 :\n",
        "            y_pred.append(1)\n",
        "        else :\n",
        "            y_pred.append(0)\n",
        "    precisionScore = precision_score(y_test, y_pred)\n",
        "    accuracyScore = accuracy_score(y_test, y_pred)\n",
        "    return precisionScore,accuracyScore ;"
      ]
    },
    {
      "cell_type": "code",
      "execution_count": null,
      "metadata": {
        "id": "LSZ0yxHVKCyG"
      },
      "outputs": [],
      "source": [
        "u_precisionScore,u_accuracyScore = ann_model_without_k_fold(unscaled_x,unscaled_y,100,10)\n",
        "s_precisionScore,s_accuracyScore = ann_model_without_k_fold(scaled_x,scaled_y,100,10)"
      ]
    },
    {
      "cell_type": "code",
      "execution_count": 16,
      "metadata": {
        "colab": {
          "base_uri": "https://localhost:8080/"
        },
        "id": "Lj1kF58iLkjy",
        "outputId": "c1fb1bcd-ecf3-4839-a62e-b4c1d5e739f9"
      },
      "outputs": [
        {
          "name": "stdout",
          "output_type": "stream",
          "text": [
            "Precision (Unscaled) :  0.70% \n",
            "Accuracy ((Unscaled) :  0.73% \n",
            "Precision (scaled) :  0.74% \n",
            "Accuracy ((scaled) :  0.75% \n"
          ]
        }
      ],
      "source": [
        "print(\"Precision (Unscaled) :  %.2f%% \" % (u_precisionScore))\n",
        "print(\"Accuracy ((Unscaled) :  %.2f%% \" % (u_accuracyScore))\n",
        "print(\"Precision (scaled) :  %.2f%% \" % (s_precisionScore))\n",
        "print(\"Accuracy ((scaled) :  %.2f%% \" % (s_accuracyScore))"
      ]
    },
    {
      "cell_type": "code",
      "execution_count": null,
      "metadata": {
        "id": "-9GGj5y1K7KG"
      },
      "outputs": [],
      "source": [
        "for train_index, test_index in folds.split(scaled_x,scaled_y):\n",
        "   X_train, X_test = scaled_x[train_index], scaled_x[test_index]\n",
        "   y_train, y_test = scaled_y[train_index], scaled_y[test_index]\n",
        "   ann_model_with_k_fold(X_train,y_train,X_test,y_test,100,10)"
      ]
    },
    {
      "cell_type": "code",
      "execution_count": 18,
      "metadata": {
        "colab": {
          "base_uri": "https://localhost:8080/"
        },
        "id": "k1Eop84hVtIz",
        "outputId": "7c2b7210-3428-4237-bbc5-8999606612a6"
      },
      "outputs": [
        {
          "name": "stdout",
          "output_type": "stream",
          "text": [
            "Avg Precision (K-Fold) :  0.72% (+/- 0.08%)\n",
            "Avg Accuracy (K-Fold) : 0.77% (+/- 0.04%)\n"
          ]
        }
      ],
      "source": [
        "print(\"Avg Precision (K-Fold) :  %.2f%% (+/- %.2f%%)\" % (np.mean(precision_scores), np.std(precision_scores)))\n",
        "print(\"Avg Accuracy (K-Fold) : %.2f%% (+/- %.2f%%)\" % (np.mean(accuracy_scores), np.std(accuracy_scores)))"
      ]
    },
    {
      "cell_type": "markdown",
      "metadata": {
        "id": "zPUuGbdqY6KS"
      },
      "source": [
        "# Summary\n",
        "\n",
        "| Model | Precision | Accuracy |\n",
        "|-------|-----------|----------|\n",
        "| With K-Fold on Scaled Dataset | 0.72% (+/- 0.08%) | 0.77% (+/- 0.04%) |\n",
        "| Without K-Fold on Unscaled Dataset | 0.70% | 0.73% |\n",
        "| Without K-Fold on scaled Dataset | 0.74% | 0.75% |\n",
        "\n",
        "\n"
      ]
    }
  ],
  "metadata": {
    "colab": {
      "provenance": []
    },
    "kernelspec": {
      "display_name": "Python 3",
      "language": "python",
      "name": "python3"
    },
    "language_info": {
      "name": "python",
      "version": "3.9.6 (default, Oct 18 2022, 12:41:40) \n[Clang 14.0.0 (clang-1400.0.29.202)]"
    },
    "vscode": {
      "interpreter": {
        "hash": "31f2aee4e71d21fbe5cf8b01ff0e069b9275f58929596ceb00d14d90e3e16cd6"
      }
    }
  },
  "nbformat": 4,
  "nbformat_minor": 0
}
