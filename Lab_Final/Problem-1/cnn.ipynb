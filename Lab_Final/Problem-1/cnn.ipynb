{
 "cells": [
  {
   "cell_type": "code",
   "execution_count": 59,
   "metadata": {
    "colab": {
     "base_uri": "https://localhost:8080/"
    },
    "id": "BtRKptVBVG5W",
    "outputId": "ab6e32b3-1f42-482e-e63f-04a32275febc"
   },
   "outputs": [
    {
     "name": "stdout",
     "output_type": "stream",
     "text": [
      "Drive already mounted at /content/drive; to attempt to forcibly remount, call drive.mount(\"/content/drive\", force_remount=True).\n"
     ]
    }
   ],
   "source": [
    "from google.colab import drive\n",
    "drive.mount('/content/drive')\n"
   ]
  },
  {
   "cell_type": "markdown",
   "metadata": {
    "id": "maN0aIKgxs88"
   },
   "source": [
    "# Extract ZIP file"
   ]
  },
  {
   "cell_type": "code",
   "execution_count": 60,
   "metadata": {
    "id": "eafiymc2Wcjw"
   },
   "outputs": [],
   "source": [
    "#!unzip '/content/drive/MyDrive/SWE_428_data/CNN_dataset.zip'"
   ]
  },
  {
   "cell_type": "markdown",
   "metadata": {
    "id": "9lqcVOmfxy7H"
   },
   "source": [
    "# Importing Libs"
   ]
  },
  {
   "cell_type": "code",
   "execution_count": 61,
   "metadata": {
    "id": "AmxkmIBjt7Pt"
   },
   "outputs": [],
   "source": [
    "import os\n",
    "import cv2\n",
    "import numpy as np\n",
    "from sklearn.model_selection import train_test_split\n",
    "import matplotlib.pyplot as plt\n",
    "from tensorflow.keras.preprocessing import image\n",
    "from tensorflow.keras.preprocessing.image import ImageDataGenerator\n",
    "from tensorflow.keras.models import Sequential, load_model\n",
    "from tensorflow.keras.optimizers import RMSprop\n",
    "from tensorflow.keras.callbacks import ReduceLROnPlateau\n",
    "from tensorflow.keras.layers import Dense, Flatten, Conv2D, Dropout, MaxPooling2D, AvgPool2D\n",
    "from tensorflow.keras.callbacks import CSVLogger, ModelCheckpoint, ReduceLROnPlateau, EarlyStopping\n",
    "import tensorflow as tf"
   ]
  },
  {
   "cell_type": "markdown",
   "metadata": {
    "id": "RxubxVwax3Il"
   },
   "source": [
    "# Take images"
   ]
  },
  {
   "cell_type": "code",
   "execution_count": 62,
   "metadata": {
    "id": "JBGelmT4spUX"
   },
   "outputs": [],
   "source": [
    "dir = '/content/drive/MyDrive/SWE_428_data/CNN_dataset/'\n",
    "images = []\n",
    "disease_names = []\n",
    "class_names = [ 'CXR', 'AbdomenCT','ChestCT', 'Hand', 'HeadCT']\n"
   ]
  },
  {
   "cell_type": "code",
   "execution_count": 63,
   "metadata": {
    "id": "UYdNKa2vspzL"
   },
   "outputs": [],
   "source": [
    "for i, class_name in enumerate(class_names):\n",
    "  class_path = os.path.join(dir, class_name)\n",
    "  for img_name in os.listdir(class_path):\n",
    "      img_path = os.path.join(class_path, img_name)\n",
    "      img = cv2.imread(img_path, cv2.IMREAD_GRAYSCALE)\n",
    "      img = cv2.resize(img, (64, 64))\n",
    "      images.append(img)\n",
    "      disease_names.append(i)"
   ]
  },
  {
   "cell_type": "code",
   "execution_count": 64,
   "metadata": {
    "id": "Rv088kicssKx"
   },
   "outputs": [],
   "source": [
    "images = np.array(images, dtype=np.float32)\n",
    "images = np.expand_dims(images, axis=-1)\n",
    "disease_names = np.array(disease_names, dtype=np.int32)"
   ]
  },
  {
   "cell_type": "markdown",
   "metadata": {
    "id": "6zhdtgoax9Ec"
   },
   "source": [
    "# Seperate Train and Test Dataset"
   ]
  },
  {
   "cell_type": "code",
   "execution_count": 65,
   "metadata": {
    "id": "kAx15b18tOvL"
   },
   "outputs": [],
   "source": [
    "x_train, x_test, y_train, y_test = train_test_split(\n",
    "    images, disease_names, test_size=0.15, stratify=disease_names, random_state=69)\n",
    "\n",
    "x_train, x_val, y_train, y_val = train_test_split(\n",
    "    x_train, y_train, test_size=0.1/(0.75-0.1),\n",
    "    stratify=y_train, random_state=69)"
   ]
  },
  {
   "cell_type": "code",
   "execution_count": 66,
   "metadata": {
    "id": "3q03knnetTMe"
   },
   "outputs": [],
   "source": [
    "x_train /= 255.\n",
    "x_val /= 255.\n",
    "x_test /= 255."
   ]
  },
  {
   "cell_type": "markdown",
   "metadata": {
    "id": "WqwvvgJbyDuI"
   },
   "source": [
    "# Creating CNN MODEL"
   ]
  },
  {
   "cell_type": "code",
   "execution_count": 67,
   "metadata": {
    "colab": {
     "base_uri": "https://localhost:8080/"
    },
    "id": "kc5gsY5btXF8",
    "outputId": "afcefd6c-775d-4aff-a2c1-a04107d69013"
   },
   "outputs": [
    {
     "name": "stdout",
     "output_type": "stream",
     "text": [
      "Model: \"sequential_3\"\n",
      "_________________________________________________________________\n",
      " Layer (type)                Output Shape              Param #   \n",
      "=================================================================\n",
      " conv2d_9 (Conv2D)           (None, 64, 64, 64)        320       \n",
      "                                                                 \n",
      " max_pooling2d_9 (MaxPooling  (None, 32, 32, 64)       0         \n",
      " 2D)                                                             \n",
      "                                                                 \n",
      " dropout_9 (Dropout)         (None, 32, 32, 64)        0         \n",
      "                                                                 \n",
      " conv2d_10 (Conv2D)          (None, 32, 32, 32)        8224      \n",
      "                                                                 \n",
      " max_pooling2d_10 (MaxPoolin  (None, 16, 16, 32)       0         \n",
      " g2D)                                                            \n",
      "                                                                 \n",
      " dropout_10 (Dropout)        (None, 16, 16, 32)        0         \n",
      "                                                                 \n",
      " conv2d_11 (Conv2D)          (None, 16, 16, 64)        8256      \n",
      "                                                                 \n",
      " max_pooling2d_11 (MaxPoolin  (None, 8, 8, 64)         0         \n",
      " g2D)                                                            \n",
      "                                                                 \n",
      " flatten_3 (Flatten)         (None, 4096)              0         \n",
      "                                                                 \n",
      " dense_6 (Dense)             (None, 256)               1048832   \n",
      "                                                                 \n",
      " dropout_11 (Dropout)        (None, 256)               0         \n",
      "                                                                 \n",
      " dense_7 (Dense)             (None, 5)                 1285      \n",
      "                                                                 \n",
      "=================================================================\n",
      "Total params: 1,066,917\n",
      "Trainable params: 1,066,917\n",
      "Non-trainable params: 0\n",
      "_________________________________________________________________\n"
     ]
    }
   ],
   "source": [
    "model = tf.keras.Sequential()\n",
    "model.add(Conv2D(filters=64, kernel_size=(2,2),strides=(1, 1), padding='same', activation='relu', input_shape=(64,64,1))) \n",
    "model.add(MaxPooling2D(pool_size=(2,2)))\n",
    "model.add(Dropout(0.3))\n",
    "model.add(Conv2D(filters=32, kernel_size=(2,2),strides=(1, 1), padding='same', activation='relu'))\n",
    "model.add(MaxPooling2D(pool_size=(2,2)))\n",
    "model.add(Dropout(0.3))\n",
    "model.add(Conv2D(filters=64, kernel_size=(2,2),strides=(1, 1), padding='same', activation='relu'))\n",
    "model.add(MaxPooling2D(pool_size=(2,2)))\n",
    "model.add(Flatten())\n",
    "model.add(Dense(256, activation='relu'))\n",
    "model.add(Dropout(0.3))\n",
    "model.add(Dense(5, activation='softmax'))\n",
    "model.summary()"
   ]
  },
  {
   "cell_type": "code",
   "execution_count": 68,
   "metadata": {
    "id": "TGa4FsX5tYxp"
   },
   "outputs": [],
   "source": [
    "model.compile(loss='sparse_categorical_crossentropy', optimizer='adam', metrics=['accuracy'])\n"
   ]
  },
  {
   "cell_type": "code",
   "execution_count": 69,
   "metadata": {
    "colab": {
     "base_uri": "https://localhost:8080/"
    },
    "id": "SeR1Hk3ntZ-l",
    "outputId": "a20b1cd7-4164-4fd9-c604-aff38cabf977"
   },
   "outputs": [
    {
     "data": {
      "text/plain": [
       "(11555, 64, 64, 1)"
      ]
     },
     "execution_count": 69,
     "metadata": {},
     "output_type": "execute_result"
    }
   ],
   "source": [
    "#Reshaping for CNN \n",
    "x_train = x_train.reshape(-1,64, 64,1) \n",
    "x_test = x_test.reshape(-1,64, 64, 1)\n",
    "x_train.shape"
   ]
  },
  {
   "cell_type": "code",
   "execution_count": 70,
   "metadata": {
    "colab": {
     "base_uri": "https://localhost:8080/"
    },
    "id": "_qO0cHsLuyUm",
    "outputId": "bd757bbc-f203-4cbb-a92f-dcd51169f6ae"
   },
   "outputs": [
    {
     "name": "stdout",
     "output_type": "stream",
     "text": [
      "Epoch 1/10\n",
      "145/145 [==============================] - 4s 17ms/step - loss: 0.0681 - accuracy: 0.9797 - val_loss: 0.0375 - val_accuracy: 0.9987\n",
      "Epoch 2/10\n",
      "145/145 [==============================] - 2s 14ms/step - loss: 0.0099 - accuracy: 0.9988 - val_loss: 0.0263 - val_accuracy: 1.0000\n",
      "Epoch 3/10\n",
      "145/145 [==============================] - 2s 14ms/step - loss: 0.0016 - accuracy: 0.9997 - val_loss: 0.0013 - val_accuracy: 1.0000\n",
      "Epoch 4/10\n",
      "145/145 [==============================] - 2s 16ms/step - loss: 3.0826e-04 - accuracy: 0.9999 - val_loss: 6.5067e-04 - val_accuracy: 1.0000\n",
      "Epoch 5/10\n",
      "145/145 [==============================] - 2s 16ms/step - loss: 5.1962e-04 - accuracy: 0.9999 - val_loss: 9.7400e-04 - val_accuracy: 1.0000\n",
      "Epoch 6/10\n",
      "145/145 [==============================] - 2s 14ms/step - loss: 6.0264e-04 - accuracy: 0.9999 - val_loss: 4.7529e-04 - val_accuracy: 1.0000\n",
      "Epoch 7/10\n",
      "145/145 [==============================] - 2s 14ms/step - loss: 1.2824e-04 - accuracy: 1.0000 - val_loss: 2.4366e-04 - val_accuracy: 1.0000\n",
      "Epoch 8/10\n",
      "145/145 [==============================] - 2s 14ms/step - loss: 8.3721e-06 - accuracy: 1.0000 - val_loss: 1.4499e-04 - val_accuracy: 1.0000\n",
      "Epoch 9/10\n",
      "145/145 [==============================] - 2s 14ms/step - loss: 5.6647e-06 - accuracy: 1.0000 - val_loss: 1.1062e-04 - val_accuracy: 1.0000\n",
      "Epoch 10/10\n",
      "145/145 [==============================] - 2s 16ms/step - loss: 3.3857e-06 - accuracy: 1.0000 - val_loss: 8.4604e-05 - val_accuracy: 1.0000\n"
     ]
    }
   ],
   "source": [
    "model_log=model.fit(x_train, y_train,\n",
    "          batch_size=64,\n",
    "          epochs=10,\n",
    "          verbose=1,\n",
    "          validation_split=.20)"
   ]
  },
  {
   "cell_type": "code",
   "execution_count": 71,
   "metadata": {
    "colab": {
     "base_uri": "https://localhost:8080/"
    },
    "id": "JMKkmMiqu0ej",
    "outputId": "c3e41b47-51f8-40b3-baff-cc9da04d2ee4"
   },
   "outputs": [
    {
     "name": "stdout",
     "output_type": "stream",
     "text": [
      "Accuracy: 1.0\n",
      "76/76 [==============================] - 0s 3ms/step\n"
     ]
    },
    {
     "data": {
      "text/plain": [
       "2"
      ]
     },
     "execution_count": 71,
     "metadata": {},
     "output_type": "execute_result"
    }
   ],
   "source": [
    "score = model.evaluate(x_test, y_test, verbose=0)\n",
    "print('Accuracy:', score[1])\n",
    "predictions = model.predict(x_test)\n",
    "predictions[0]\n",
    "np.argmax(predictions[0])"
   ]
  },
  {
   "cell_type": "code",
   "execution_count": 72,
   "metadata": {
    "colab": {
     "base_uri": "https://localhost:8080/",
     "height": 297
    },
    "id": "9TaxXWcVu2hC",
    "outputId": "f05cc483-83a7-43a5-c157-e1dc46efc801"
   },
   "outputs": [
    {
     "data": {
      "image/png": "[encoded data removed]",
      "text/plain": [
       "<Figure size 432x288 with 2 Axes>"
      ]
     },
     "metadata": {
      "needs_background": "light"
     },
     "output_type": "display_data"
    }
   ],
   "source": [
    "fig = plt.figure()\n",
    "plt.subplot(2,1,1)\n",
    "plt.plot(model_log.history['accuracy'])\n",
    "plt.plot(model_log.history['val_accuracy'])\n",
    "plt.title('model accuracy')\n",
    "plt.ylabel('accuracy')\n",
    "plt.xlabel('epoch')\n",
    "plt.legend(['train', 'test'], loc='lower right')\n",
    "plt.subplot(2,1,2)\n",
    "plt.plot(model_log.history['loss'])\n",
    "plt.plot(model_log.history['val_loss'])\n",
    "plt.title('model loss')\n",
    "plt.ylabel('loss')\n",
    "plt.xlabel('epoch')\n",
    "plt.legend(['train', 'test'], loc='upper right')\n",
    "plt.tight_layout()"
   ]
  }
 ],
 "metadata": {
  "accelerator": "GPU",
  "colab": {
   "provenance": []
  },
  "gpuClass": "standard",
  "kernelspec": {
   "display_name": "Python 3",
   "language": "python",
   "name": "python3"
  },
  "language_info": {
   "name": "python",
   "version": "3.9.6 (default, Oct 18 2022, 12:41:40) \n[Clang 14.0.0 (clang-1400.0.29.202)]"
  },
  "vscode": {
   "interpreter": {
    "hash": "31f2aee4e71d21fbe5cf8b01ff0e069b9275f58929596ceb00d14d90e3e16cd6"
   }
  }
 },
 "nbformat": 4,
 "nbformat_minor": 0
}
